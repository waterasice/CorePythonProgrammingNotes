{
 "cells": [
  {
   "cell_type": "markdown",
   "metadata": {},
   "source": [
    "# 第 4 章 python 对象"
   ]
  },
  {
   "cell_type": "markdown",
   "metadata": {},
   "source": [
    "# 4.1 python 对象\n",
    "\n",
    "所有的 python 对象都有三个特性：\n",
    "\n",
    "- 身份\n",
    "- 类型\n",
    "- 值\n",
    "\n",
    "身份：每一个对象都有一个唯一身份标识自己，可用函数 **id()** 来得到，这个值可以被认为是该对象的内存地址。**极少**用到。\n",
    "类型：决定该对象可以保存什么类型的值，可以进什么样的操作，以及遵守什么样的规则。可用函数 **type()**查看。\n",
    "值：对象标识的数据项。 \n",
    "\n",
    "除了值以外，其他两个也行都是只读的。\n",
    "\n",
    "python 用局点 ''.'' 标记法来访问属性。\n",
    "\n",
    "函数数据属性的对象包括（但不限于）：类、类实例、模块、复数和文件。\n"
   ]
  },
  {
   "cell_type": "markdown",
   "metadata": {},
   "source": [
    "# 4.2 标准类型\n",
    "\n",
    "- 数字\n",
    "- Integer\n",
    "- Boolean\n",
    "- Long integer\n",
    "- Floating point  real number\n",
    "- Complex number\n",
    "- String\n",
    "- List\n",
    "- Tuple\n",
    "- Dictionary"
   ]
  },
  {
   "cell_type": "markdown",
   "metadata": {},
   "source": [
    "## 4.3 其他内建类型\n",
    "\n",
    "- 类型\n",
    "- Null 对象（None）\n",
    "- 文件\n",
    "- 集合/固定集合\n",
    "- 函数/方法\n",
    "- 模块\n",
    "- 类\n",
    "\n",
    "### 4.3.1 类型对象和 type 类型对象\n",
    "调用 type() 来获取特定对象的类型信息"
   ]
  },
  {
   "cell_type": "code",
   "execution_count": 1,
   "metadata": {},
   "outputs": [
    {
     "data": {
      "text/plain": [
       "int"
      ]
     },
     "execution_count": 1,
     "metadata": {},
     "output_type": "execute_result"
    }
   ],
   "source": [
    "type(50)"
   ]
  },
  {
   "cell_type": "markdown",
   "metadata": {},
   "source": [
    "输出 int 实际上也是一个对象"
   ]
  },
  {
   "cell_type": "code",
   "execution_count": 2,
   "metadata": {},
   "outputs": [
    {
     "data": {
      "text/plain": [
       "type"
      ]
     },
     "execution_count": 2,
     "metadata": {},
     "output_type": "execute_result"
    }
   ],
   "source": [
    "type(type(50))"
   ]
  },
  {
   "cell_type": "markdown",
   "metadata": {},
   "source": [
    "### 4.3.2 None——Python的 Null 对象\n",
    "\n",
    "python 有一个特殊类型，被称为 Null 对象或者 NoneType ，它只有一个值—— None。\n",
    "\n",
    "None 不支持任何运算也没有内建方法。相当于 C 语言中的 void，None 类型的值和 C 的 NULL 非常相似。 \n",
    "\n",
    "None 没有什么有用的属性，它的布尔值总是 False\n",
    "\n",
    "> 下面对象的布尔值是 False:\n",
    "- None\n",
    "- False\n",
    "- 所有的值为零的数\n",
    "- 0\n",
    "- 0.0\n",
    "- 0L\n",
    "- 0.0+0.0j(复数)\n",
    "- \"\"(空字符串)\n",
    "- []\\(空列表)\n",
    "- ()(空元祖)\n",
    "- {}(空字典)"
   ]
  },
  {
   "cell_type": "markdown",
   "metadata": {},
   "source": [
    "## 4.4 内部类型\n",
    "\n",
    "- 代码\n",
    "- 帧\n",
    "- 跟踪记录\n",
    "- 切片\n",
    "- 省略\n",
    "- Xrange"
   ]
  },
  {
   "cell_type": "markdown",
   "metadata": {},
   "source": [
    "### 4.4.1 代码对象\n",
    "\n",
    "代码对象是编译过的 Python 源码片段，它是可执行对象。通过内建函数 compile() 可以得到代码对象。\n",
    "\n",
    "### 4.4.2 帧对象\n",
    "\n",
    "帧对象表示 Python 的执行栈帧。帧对象包含 Python 解释器在运行时所需要知道的所有信息。\n",
    "\n",
    "### 4.4.3 跟踪记录对象\n",
    "\n",
    "代码出错时，Python 就会引发一个异常。如果异常未被捕获和处理，解释器就会退出脚本运行，显示信息如下："
   ]
  },
  {
   "cell_type": "code",
   "execution_count": 3,
   "metadata": {},
   "outputs": [
    {
     "ename": "SyntaxError",
     "evalue": "invalid syntax (<ipython-input-3-77d8ae9c2d51>, line 1)",
     "output_type": "error",
     "traceback": [
      "\u001b[1;36m  File \u001b[1;32m\"<ipython-input-3-77d8ae9c2d51>\"\u001b[1;36m, line \u001b[1;32m1\u001b[0m\n\u001b[1;33m    <a>\u001b[0m\n\u001b[1;37m    ^\u001b[0m\n\u001b[1;31mSyntaxError\u001b[0m\u001b[1;31m:\u001b[0m invalid syntax\n"
     ]
    }
   ],
   "source": [
    "<a>"
   ]
  },
  {
   "cell_type": "markdown",
   "metadata": {},
   "source": [
    "当异常发生时，一个包含针对异常的栈跟踪信息的跟踪记录对象被创建。\n",
    "\n",
    "### 4.4.4 切片对象\n",
    "\n",
    "当使用 Python 扩展的切片语法时，就会创建切片对象"
   ]
  },
  {
   "cell_type": "code",
   "execution_count": 4,
   "metadata": {},
   "outputs": [
    {
     "data": {
      "text/plain": [
       "'escba'"
      ]
     },
     "execution_count": 4,
     "metadata": {},
     "output_type": "execute_result"
    }
   ],
   "source": [
    "foo = 'abcse'\n",
    "foo[::-1]"
   ]
  },
  {
   "cell_type": "markdown",
   "metadata": {},
   "source": [
    "### 4.4.5 省略对象\n",
    "\n",
    "省略对象用于扩展切片语法中，起记号作用。它唯一名字为 Ellipsis ，它的布尔值为 True。"
   ]
  },
  {
   "cell_type": "markdown",
   "metadata": {},
   "source": [
    "### 4.4.6 Xrange 对象\n",
    "\n",
    "调用 xrange() 函数就会创建 Xrange 对象，xrange() 是 range()的兄弟版本，用于需要节省内存使用或 range() 无法完成的超大数据集场合。"
   ]
  },
  {
   "cell_type": "markdown",
   "metadata": {},
   "source": [
    "## 4.5 标准类型操作符\n",
    "\n",
    "### 4.5.1 对象值的比较\n",
    "\n",
    "比较操作用来判断同类型对象是否相等。"
   ]
  },
  {
   "cell_type": "code",
   "execution_count": 5,
   "metadata": {},
   "outputs": [
    {
     "data": {
      "text/plain": [
       "True"
      ]
     },
     "execution_count": 5,
     "metadata": {},
     "output_type": "execute_result"
    }
   ],
   "source": [
    "2 == 2"
   ]
  },
  {
   "cell_type": "code",
   "execution_count": 6,
   "metadata": {},
   "outputs": [
    {
     "data": {
      "text/plain": [
       "True"
      ]
     },
     "execution_count": 6,
     "metadata": {},
     "output_type": "execute_result"
    }
   ],
   "source": [
    "4.36 <= 8.33"
   ]
  },
  {
   "cell_type": "code",
   "execution_count": 7,
   "metadata": {},
   "outputs": [
    {
     "data": {
      "text/plain": [
       "False"
      ]
     },
     "execution_count": 7,
     "metadata": {},
     "output_type": "execute_result"
    }
   ],
   "source": [
    "'abc' == 'xyz'"
   ]
  },
  {
   "cell_type": "code",
   "execution_count": 8,
   "metadata": {},
   "outputs": [
    {
     "data": {
      "text/plain": [
       "True"
      ]
     },
     "execution_count": 8,
     "metadata": {},
     "output_type": "execute_result"
    }
   ],
   "source": [
    "'abc' < 'xyz'"
   ]
  },
  {
   "cell_type": "code",
   "execution_count": 9,
   "metadata": {},
   "outputs": [
    {
     "data": {
      "text/plain": [
       "True"
      ]
     },
     "execution_count": 9,
     "metadata": {},
     "output_type": "execute_result"
    }
   ],
   "source": [
    "[3,'abc'] == [3,'abc']"
   ]
  },
  {
   "cell_type": "code",
   "execution_count": 10,
   "metadata": {},
   "outputs": [
    {
     "data": {
      "text/plain": [
       "False"
      ]
     },
     "execution_count": 10,
     "metadata": {},
     "output_type": "execute_result"
    }
   ],
   "source": [
    "[3,'abc'] == ['abc',3]"
   ]
  },
  {
   "cell_type": "code",
   "execution_count": 11,
   "metadata": {},
   "outputs": [
    {
     "data": {
      "text/plain": [
       "True"
      ]
     },
     "execution_count": 11,
     "metadata": {},
     "output_type": "execute_result"
    }
   ],
   "source": [
    "3 < 4 < 7 # same as   (3<4) and (4<7)"
   ]
  },
  {
   "cell_type": "code",
   "execution_count": 12,
   "metadata": {},
   "outputs": [
    {
     "data": {
      "text/plain": [
       "True"
      ]
     },
     "execution_count": 12,
     "metadata": {},
     "output_type": "execute_result"
    }
   ],
   "source": [
    "4 > 3 == 3 "
   ]
  },
  {
   "cell_type": "code",
   "execution_count": 13,
   "metadata": {},
   "outputs": [
    {
     "data": {
      "text/plain": [
       "False"
      ]
     },
     "execution_count": 13,
     "metadata": {},
     "output_type": "execute_result"
    }
   ],
   "source": [
    "4 < 3 < 5 != 2 < 7"
   ]
  },
  {
   "cell_type": "markdown",
   "metadata": {},
   "source": [
    "### 4.5.2 对象身份的比较"
   ]
  },
  {
   "cell_type": "code",
   "execution_count": 14,
   "metadata": {
    "collapsed": true
   },
   "outputs": [],
   "source": [
    "foo1 = foo2 = 3.2 #foo1 和 foo2 指向相同的对象"
   ]
  },
  {
   "cell_type": "code",
   "execution_count": 15,
   "metadata": {
    "collapsed": true
   },
   "outputs": [],
   "source": [
    "foo1 = 3.2\n",
    "foo2 = foo1"
   ]
  },
  {
   "cell_type": "code",
   "execution_count": 16,
   "metadata": {
    "collapsed": true
   },
   "outputs": [],
   "source": [
    "foo1 = 3.2\n",
    "foo2 = 3+0.2   #foo1 和 foo2 指向不同的对象"
   ]
  },
  {
   "cell_type": "markdown",
   "metadata": {},
   "source": [
    "Python 提供 is 和 is not 操作符来测试两个变量是否指向同一个对象\n",
    "\n",
    "a is b \n",
    "\n",
    "这个表达式等价于：\n",
    "\n",
    "id(a) == id(b)"
   ]
  },
  {
   "cell_type": "code",
   "execution_count": 17,
   "metadata": {},
   "outputs": [
    {
     "data": {
      "text/plain": [
       "True"
      ]
     },
     "execution_count": 17,
     "metadata": {},
     "output_type": "execute_result"
    }
   ],
   "source": [
    "a = [1,'2',3]\n",
    "b = a \n",
    "a is b"
   ]
  },
  {
   "cell_type": "markdown",
   "metadata": {},
   "source": [
    "### 4.5.3 布尔类型\n",
    "\n",
    "布尔逻辑操作符 and 、 or 、 not 都是 Python 的关键字。 not 操作符拥有最高优先级，只比所有比较操作符低一级。and 和 or 操作符则相应的再低一级。"
   ]
  },
  {
   "cell_type": "code",
   "execution_count": 18,
   "metadata": {},
   "outputs": [
    {
     "data": {
      "text/plain": [
       "False"
      ]
     },
     "execution_count": 18,
     "metadata": {},
     "output_type": "execute_result"
    }
   ],
   "source": [
    "x = 3.1415926\n",
    "not (x<5.0)"
   ]
  },
  {
   "cell_type": "code",
   "execution_count": 19,
   "metadata": {},
   "outputs": [
    {
     "data": {
      "text/plain": [
       "True"
      ]
     },
     "execution_count": 19,
     "metadata": {},
     "output_type": "execute_result"
    }
   ],
   "source": [
    "(x<5.0) or (x>2.718)"
   ]
  },
  {
   "cell_type": "code",
   "execution_count": 20,
   "metadata": {},
   "outputs": [
    {
     "data": {
      "text/plain": [
       "False"
      ]
     },
     "execution_count": 20,
     "metadata": {},
     "output_type": "execute_result"
    }
   ],
   "source": [
    "(x<5.0) and (x<2.718)"
   ]
  },
  {
   "cell_type": "markdown",
   "metadata": {},
   "source": [
    "## 4.6 标准类型内减函数\n",
    "\n",
    "Python 提供了一些内建函数用于基本对象类型：cmp()、repr()、str()、type()\n",
    "\n",
    "### 4.6.1 type()"
   ]
  },
  {
   "cell_type": "code",
   "execution_count": 21,
   "metadata": {},
   "outputs": [
    {
     "data": {
      "text/plain": [
       "int"
      ]
     },
     "execution_count": 21,
     "metadata": {},
     "output_type": "execute_result"
    }
   ],
   "source": [
    "type(1)"
   ]
  },
  {
   "cell_type": "code",
   "execution_count": 22,
   "metadata": {},
   "outputs": [
    {
     "data": {
      "text/plain": [
       "str"
      ]
     },
     "execution_count": 22,
     "metadata": {},
     "output_type": "execute_result"
    }
   ],
   "source": [
    "type('hello')"
   ]
  },
  {
   "cell_type": "code",
   "execution_count": 23,
   "metadata": {},
   "outputs": [
    {
     "data": {
      "text/plain": [
       "type"
      ]
     },
     "execution_count": 23,
     "metadata": {},
     "output_type": "execute_result"
    }
   ],
   "source": [
    "type((type(1)))"
   ]
  },
  {
   "cell_type": "markdown",
   "metadata": {},
   "source": [
    "### 4.6.2 cmp()\n",
    "Python 3.4.3 的版本中已经没有 cmp() 函数，被 operator 模块代替，在交互模式下使用时，需要导入模块\n",
    "\n",
    "lt(a, b) 相当于 a < b\n",
    "\n",
    "le(a,b) 相当于 a <= b\n",
    "\n",
    "eq(a,b) 相当于 a == b\n",
    "\n",
    "ne(a,b) 相当于 a != b\n",
    "\n",
    "gt(a,b) 相当于 a > b\n",
    "\n",
    "ge(a,b)相当于 a>= b"
   ]
  },
  {
   "cell_type": "code",
   "execution_count": 24,
   "metadata": {},
   "outputs": [
    {
     "data": {
      "text/plain": [
       "True"
      ]
     },
     "execution_count": 24,
     "metadata": {},
     "output_type": "execute_result"
    }
   ],
   "source": [
    "import operator\n",
    "a,b=1,2\n",
    "operator.le(a,b)"
   ]
  },
  {
   "cell_type": "markdown",
   "metadata": {},
   "source": [
    "### 4.6.3 str() 和 repr() 及‘’\n",
    "\n",
    "内建函数 str()、repr()或引号操作符 '' 可以方便地以字符串的方式获取对象的内容、类型、数值属性等信息。"
   ]
  },
  {
   "cell_type": "code",
   "execution_count": 25,
   "metadata": {},
   "outputs": [
    {
     "data": {
      "text/plain": [
       "'1'"
      ]
     },
     "execution_count": 25,
     "metadata": {},
     "output_type": "execute_result"
    }
   ],
   "source": [
    "str(1)"
   ]
  },
  {
   "cell_type": "code",
   "execution_count": 26,
   "metadata": {},
   "outputs": [
    {
     "data": {
      "text/plain": [
       "'(5.3-2j)'"
      ]
     },
     "execution_count": 26,
     "metadata": {},
     "output_type": "execute_result"
    }
   ],
   "source": [
    "str(5.3-2j)"
   ]
  },
  {
   "cell_type": "code",
   "execution_count": 27,
   "metadata": {},
   "outputs": [
    {
     "data": {
      "text/plain": [
       "'20000000000.0'"
      ]
     },
     "execution_count": 27,
     "metadata": {},
     "output_type": "execute_result"
    }
   ],
   "source": [
    "str(2e10)"
   ]
  },
  {
   "cell_type": "markdown",
   "metadata": {},
   "source": [
    "### 4.6.4 type() 和 isinstance()\n",
    "\n",
    "Python 不支持函数重载，因此想保证调用的就是想掉用的函数，可以使用 type() 和 isinstance()\n",
    "\n",
    "**注意**：\n",
    "- python2 中的十进制长整型在 python3 中被替换为十进制普通整数\n",
    "- python2 里的十六进制长整型在 python3 里被替换为十六进制的普通整数\n",
    "- python3 没有 long()"
   ]
  },
  {
   "cell_type": "code",
   "execution_count": 28,
   "metadata": {
    "collapsed": true
   },
   "outputs": [],
   "source": [
    "def displayNumType(num):\n",
    "    if isinstance(num,(int,float,complex)):\n",
    "        print(num,' is ', 'a number of type:',type(num).__name__)\n",
    "    else:\n",
    "        print('not a number of all')"
   ]
  },
  {
   "cell_type": "code",
   "execution_count": 29,
   "metadata": {},
   "outputs": [
    {
     "name": "stdout",
     "output_type": "stream",
     "text": [
      "1  is  a number of type: int\n",
      "99999999999999999  is  a number of type: int\n",
      "23.1  is  a number of type: float\n",
      "(-5.2+1.2j)  is  a number of type: complex\n",
      "not a number of all\n"
     ]
    }
   ],
   "source": [
    "displayNumType(1)\n",
    "displayNumType(99999999999999999)\n",
    "displayNumType(23.1)\n",
    "displayNumType(-5.2+1.2j)\n",
    "displayNumType('xxx')"
   ]
  },
  {
   "cell_type": "code",
   "execution_count": 30,
   "metadata": {
    "collapsed": true
   },
   "outputs": [],
   "source": [
    "# 1.原始\n",
    "def displayNumType(num):\n",
    "    if type(num) == type(0):\n",
    "        print(num,'is int')\n",
    "    elif type(num) == type(1.1):\n",
    "        print(num,'is float')\n",
    "    elif type(num) == type(1+2j):\n",
    "        print(num,'is complex')"
   ]
  },
  {
   "cell_type": "markdown",
   "metadata": {},
   "source": [
    "2.减少函数调用次数，调用 type() 是会损耗性能的\n",
    "\n",
    "import types\n",
    "\n",
    "if (type(num)) == types.IntType\n",
    "\n",
    "3.对象身份比较 VS 对象值比较\n",
    "\n",
    "if type(num) is types.IntType ...\n",
    "\n",
    "4.减少查询次数\n",
    "\n",
    "from types import IntType\n",
    "\n",
    "if type(num) is IntType ...\n",
    "\n",
    "5.惯例\n",
    "\n",
    "if isinstance(num,(int,float,complex))..."
   ]
  },
  {
   "cell_type": "markdown",
   "metadata": {},
   "source": [
    "## 4.6 略\n",
    "\n",
    "## 4.7 类型工厂函数\n",
    "\n",
    "int()、list()、type()等，看上去是函数，实际上是类。调用时实际上是生成了该类型的一个实例，就像工厂生产货物一样。\n",
    "\n",
    "- int(),flaot(),complex()\n",
    "- str(),unicode(),basestring()\n",
    "- list(),tuple()\n",
    "- type()\n",
    "- dict()\n",
    "- bool()\n",
    "- set(),frozenset()\n",
    "- object()\n",
    "- classmethod()\n",
    "- staticmethod()\n",
    "- super()\n",
    "- property()\n",
    "- file()\n",
    "\n",
    "## 4.8 标准类型的分类\n",
    "\n",
    "### 4.8.1 存储模型\n",
    "存储模型|\n",
    "---|:--:|\n",
    "分类|Python 类型|\n",
    "标量|数值，字符串|\n",
    "容器类型|列表，元组，字典|\n",
    "\n",
    "### 4.8.2 跟新模型"
   ]
  },
  {
   "cell_type": "code",
   "execution_count": 31,
   "metadata": {
    "collapsed": true
   },
   "outputs": [],
   "source": [
    "x = 'hello'\n",
    "x = 'world'\n",
    "i = 0\n",
    "i = i+1"
   ]
  },
  {
   "cell_type": "markdown",
   "metadata": {},
   "source": [
    "> 数字与字符串对象是不可变的\n",
    "\n",
    "实际上是一个新对象被创建，然后它取代了旧对象。新创建的对象被关联到原来的变量，旧对象被丢弃，垃圾回收器会在适当的实际回收。\n",
    "\n",
    "更新模型|\n",
    "---|:--:|\n",
    "分类|Python 类型|\n",
    "可变类型|列表，字典|\n",
    "不可变类型|数值，字符串，元组|"
   ]
  },
  {
   "cell_type": "code",
   "execution_count": 32,
   "metadata": {},
   "outputs": [
    {
     "data": {
      "text/plain": [
       "2068842985600"
      ]
     },
     "execution_count": 32,
     "metadata": {},
     "output_type": "execute_result"
    }
   ],
   "source": [
    "x = 'fisrt'\n",
    "id(x)"
   ]
  },
  {
   "cell_type": "code",
   "execution_count": 33,
   "metadata": {},
   "outputs": [
    {
     "data": {
      "text/plain": [
       "2068780025536"
      ]
     },
     "execution_count": 33,
     "metadata": {},
     "output_type": "execute_result"
    }
   ],
   "source": [
    "x = 'second'\n",
    "id(x)"
   ]
  },
  {
   "cell_type": "code",
   "execution_count": 34,
   "metadata": {},
   "outputs": [
    {
     "data": {
      "text/plain": [
       "1765630112"
      ]
     },
     "execution_count": 34,
     "metadata": {},
     "output_type": "execute_result"
    }
   ],
   "source": [
    "i = 1\n",
    "id(i)"
   ]
  },
  {
   "cell_type": "code",
   "execution_count": 35,
   "metadata": {},
   "outputs": [
    {
     "data": {
      "text/plain": [
       "1765630144"
      ]
     },
     "execution_count": 35,
     "metadata": {},
     "output_type": "execute_result"
    }
   ],
   "source": [
    "i = i+1\n",
    "id(i)"
   ]
  },
  {
   "cell_type": "code",
   "execution_count": 36,
   "metadata": {},
   "outputs": [
    {
     "data": {
      "text/plain": [
       "2068842808584"
      ]
     },
     "execution_count": 36,
     "metadata": {},
     "output_type": "execute_result"
    }
   ],
   "source": [
    "aList = [1,2,'abc']\n",
    "id(aList)"
   ]
  },
  {
   "cell_type": "code",
   "execution_count": 37,
   "metadata": {},
   "outputs": [
    {
     "data": {
      "text/plain": [
       "2068842808584"
      ]
     },
     "execution_count": 37,
     "metadata": {},
     "output_type": "execute_result"
    }
   ],
   "source": [
    "aList.append('a')\n",
    "id(aList)"
   ]
  },
  {
   "cell_type": "markdown",
   "metadata": {},
   "source": [
    "**注意**：列表的值无论如何改变，列表的 ID 始终保持不变。"
   ]
  },
  {
   "cell_type": "markdown",
   "metadata": {},
   "source": [
    "### 4.8.3 访问模型\n",
    "\n",
    "访问模型|\n",
    "---|:--:|\n",
    "分类|Python 类型|\n",
    "直接访问|数字|\n",
    "顺序访问|字符串，列表，元组|\n",
    "映射访问|字典|\n",
    "\n",
    "## 4.9 不支持的类型\n",
    "\n",
    "- char,byte\n",
    "- 指针\n",
    "- int,short,long\n",
    "- float,double"
   ]
  },
  {
   "cell_type": "code",
   "execution_count": null,
   "metadata": {
    "collapsed": true
   },
   "outputs": [],
   "source": []
  }
 ],
 "metadata": {
  "kernelspec": {
   "display_name": "Python 3",
   "language": "python",
   "name": "python3"
  },
  "language_info": {
   "codemirror_mode": {
    "name": "ipython",
    "version": 3
   },
   "file_extension": ".py",
   "mimetype": "text/x-python",
   "name": "python",
   "nbconvert_exporter": "python",
   "pygments_lexer": "ipython3",
   "version": "3.6.3"
  }
 },
 "nbformat": 4,
 "nbformat_minor": 2
}
