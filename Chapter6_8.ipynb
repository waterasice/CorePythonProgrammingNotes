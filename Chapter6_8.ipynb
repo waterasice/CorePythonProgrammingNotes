{
 "cells": [
  {
   "cell_type": "markdown",
   "metadata": {},
   "source": [
    "# 6.8 Unicode\n",
    "\n",
    "\n",
    "## 6.8.1 术语\n",
    "\n",
    "名词 | 意思\n",
    "------------ | -------------\n",
    "ASCII | 美国标准信息交换码\n",
    "BOM | 字节顺序标记（表示字节顺序的字符）\n",
    "CJK/CJKV | 中文-日文-韩文（越南语）的缩写\n",
    "Code point | 类似 ASCII ，代表 Unicode 字符的值，从 0x000000 到 0x10FFFF\n",
    "Octet | 八位二进制数的位组\n",
    "UCS | 通用字符集\n",
    "UTF | Unicode 或者 UCS 的转换格式\n",
    "UTF-8 | 8 位 UTF 转换格式（无符号字节序列，长度为 1~4 个字节）\n",
    "UTF-16 | 16 位 UTF 转换格式（无符号字节序列，通常是 2 个字节）\n",
    "\n",
    "\n",
    "## 6.8.2 什么是 Unicode\n",
    "\n",
    "Unicode 是计算机可以支持这个星球上多种语言的秘密武器。 Unicode 突破了 ASCII 的限制，可以表示超过 90000 个字符。\n",
    "    \n",
    "## 6.8.3 怎么使用 Unicode\n",
    "\n",
    "```python\n",
    "\n",
    "\"hello world\" # ASCII string\n",
    "u\"hello world\" # Unicode string\n",
    "```\n",
    "\n",
    "## 6.8.4 Codec 是什么\n",
    "\n",
    "codec 是 COder/DECoder 的首字母组合。它定义了文本跟二进制的转换方式，跟 ASCII 那种用一个字节把字符转换成数字的方式不同，Unicode 用的是多字节。这导致其支持多种不同的编码方式。比如说 codec 支持的 4 种耳熟能详的编码方式：ASCII、ISO 8859-1/Latin-1、UTF-8、UTF-16 。\n",
    "\n",
    "## 6.8.5 编码解码\n",
    "\n",
    "1. 简单的例子\n",
    "\n",
    "```python\n",
    "CODEC = 'utf-8'\n",
    "FILE = 'unicode.txt'\n",
    "\n",
    "hello_out = u'hello world\\n'\n",
    "bytes_out = hello_out.encode(CODEC)\n",
    "f = open(FILE,\"w\")\n",
    "f.write(bytes_out)\n",
    "f.close()\n",
    "\n",
    "f.open(FILE,'r')\n",
    "bytes_in = f.read()\n",
    "f.close()\n",
    "hello_in = bytes_in.decode(CODEC)\n",
    "print hello_in\n",
    "```\n",
    "\n",
    "## 6.8.6 把 Unicode 应用到实际应用上\n",
    "\n",
    "- 程序出现字符串时一定加上前缀 u \n",
    "- 不要用 str()函数，使用 unicode()代替\n",
    "- 不要用过时的 string 模块——如果穿给它非 ASCII 字符，它会把一切搞砸\n",
    "- 不到必要时不要在程序中编解码 Unicode 字符。只在写文件或数据库或网络时，才调用 encode()函数，相应的，读取要调用 decode()函数。\n",
    "\n"
   ]
  },
  {
   "cell_type": "code",
   "execution_count": null,
   "metadata": {
    "collapsed": true
   },
   "outputs": [],
   "source": []
  }
 ],
 "metadata": {
  "kernelspec": {
   "display_name": "Python 3",
   "language": "python",
   "name": "python3"
  },
  "language_info": {
   "codemirror_mode": {
    "name": "ipython",
    "version": 3
   },
   "file_extension": ".py",
   "mimetype": "text/x-python",
   "name": "python",
   "nbconvert_exporter": "python",
   "pygments_lexer": "ipython3",
   "version": "3.6.3"
  }
 },
 "nbformat": 4,
 "nbformat_minor": 2
}
